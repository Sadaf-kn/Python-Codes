{
  "cells": [
    {
      "cell_type": "markdown",
      "metadata": {
        "id": "view-in-github",
        "colab_type": "text"
      },
      "source": [
        "<a href=\"https://colab.research.google.com/github/Sadaf-kn/Python-Codes/blob/main/codes_1.ipynb\" target=\"_parent\"><img src=\"https://colab.research.google.com/assets/colab-badge.svg\" alt=\"Open In Colab\"/></a>"
      ]
    },
    {
      "cell_type": "code",
      "execution_count": null,
      "metadata": {
        "colab": {
          "base_uri": "https://localhost:8080/"
        },
        "id": "73VesekSVJzq",
        "outputId": "643d4b4f-bb5c-49af-d355-6052da25df28"
      },
      "outputs": [
        {
          "name": "stdout",
          "output_type": "stream",
          "text": [
            "HELLO PYTHON\n"
          ]
        }
      ],
      "source": [
        "#Prgram 1\n",
        "print(\"HELLO PYTHON\")"
      ]
    },
    {
      "cell_type": "code",
      "execution_count": null,
      "metadata": {
        "colab": {
          "base_uri": "https://localhost:8080/"
        },
        "id": "ikwQdF2eXjii",
        "outputId": "e8fed38c-8577-4264-ad2c-2c6934eb89c8"
      },
      "outputs": [
        {
          "name": "stdout",
          "output_type": "stream",
          "text": [
            "Enter the First Number for Addition= 5\n",
            "Enter the First Number for Addition= 6\n",
            " Sum: 5.0 + 6.0 = 11.0\n"
          ]
        }
      ],
      "source": [
        "# Program 2\n",
        "#Addition\n",
        "num1=float(input(\"Enter the First Number for Addition= \"))\n",
        "num2=float(input(\"Enter the First Number for Addition= \"))\n",
        "sum_rzlt=num1+num2\n",
        "print(f\" Sum: {num1} + {num2} = {sum_rzlt}\")\n"
      ]
    },
    {
      "cell_type": "code",
      "execution_count": null,
      "metadata": {
        "colab": {
          "base_uri": "https://localhost:8080/"
        },
        "id": "SLJfCLwmYzR-",
        "outputId": "a60d16e9-0a3b-467e-f6f6-868fe7c3dd41"
      },
      "outputs": [
        {
          "name": "stdout",
          "output_type": "stream",
          "text": [
            "Enter the Dividend for Division = 60\n",
            "Enter the Divisor for Division = 5\n",
            " Division: 60.0 / 5.0 = 12.0\n"
          ]
        }
      ],
      "source": [
        "#Program 3\n",
        "#Division\n",
        "num3=float(input(\"Enter the Dividend for Division = \"))\n",
        "num4=float(input(\"Enter the Divisor for Division = \"))\n",
        "if num4 == 0:\n",
        "  print(\"Error: Division by Zero is not allowed.\")\n",
        "else:\n",
        "  div_result= num3/num4\n",
        "  print(f\" Division: {num3} / {num4} = {div_result}\")\n"
      ]
    },
    {
      "cell_type": "code",
      "execution_count": null,
      "metadata": {
        "colab": {
          "base_uri": "https://localhost:8080/"
        },
        "id": "De142uIdaj0d",
        "outputId": "0d4db310-61a9-4b52-da83-9cdfe407c410"
      },
      "outputs": [
        {
          "output_type": "stream",
          "name": "stdout",
          "text": [
            "Enter the base length of the the Triangle = 10\n",
            "Enter the height of the the Triangle = 15\n",
            " The area of a Triangle is: 75.0\n"
          ]
        }
      ],
      "source": [
        "#Program 4\n",
        "#Write a Python program to find the area of a triangle.\n",
        "#Take input values of Height and base from the user\n",
        "base= float(input(\"Enter the base length of the the Triangle = \"))\n",
        "height= float(input(\"Enter the height of the the Triangle = \"))\n",
        "#calculate the area of a Triangle\n",
        "area= (1/2)* base * height\n",
        "print(f\" The area of a Triangle is: {area}\")\n"
      ]
    },
    {
      "cell_type": "code",
      "source": [
        "#Program 5\n",
        "#Write a Python program to swap the two variables.\n",
        "a=input(\"Enter the value of first variable, a = \")\n",
        "b=input(\"Enter the value of 2nd variable, b = \")\n",
        "print(f\" The original variables values are : a={a} & b={b}\")\n",
        "#Now swap the values of both variables\n",
        "temp_value = a\n",
        "a=b\n",
        "b=temp_value\n",
        "#Display the Swapped values\n",
        "print(f\" The Swapped values are a ={a} & b={b}\")"
      ],
      "metadata": {
        "id": "FuVs0syhU9I6",
        "outputId": "6e151834-007a-4a22-8d7c-ff5727a689ae",
        "colab": {
          "base_uri": "https://localhost:8080/"
        }
      },
      "execution_count": null,
      "outputs": [
        {
          "output_type": "stream",
          "name": "stdout",
          "text": [
            "Enter the value of 2nd variable, b = 3\n",
            " The original variables values are : a=5 & b=3\n",
            " The Swapped values are a =3 & b=5\n"
          ]
        }
      ]
    },
    {
      "cell_type": "code",
      "source": [
        "#Program 6\n",
        "#Write a Python program to generate a random number.\n",
        "import random\n",
        "print(f\"Random Number is : {random.randint(1,100)}\")"
      ],
      "metadata": {
        "colab": {
          "base_uri": "https://localhost:8080/"
        },
        "id": "7A3TXqvD1nbZ",
        "outputId": "e71f0d83-2998-4646-ba89-f0c10f949a66"
      },
      "execution_count": null,
      "outputs": [
        {
          "output_type": "stream",
          "name": "stdout",
          "text": [
            "Random Number is : 58\n"
          ]
        }
      ]
    },
    {
      "cell_type": "code",
      "source": [
        "#Program 7\n",
        "#Write a program to convert kilometers to miles\n",
        "kilometers=float(input(\"Enter the distance in  kilometers: \"))\n",
        "\n",
        "# 1 kilometer = 0.621371 Miles\n",
        "conversion_factor=0.621371\n",
        "miles = kilometers* conversion_factor\n",
        "print(f\" {kilometers} Kilometers are equal to {miles} Miles\")\n"
      ],
      "metadata": {
        "colab": {
          "base_uri": "https://localhost:8080/"
        },
        "id": "OzFjb3zB2kv8",
        "outputId": "1a778dd1-81c6-447e-dc37-50e5b0190958"
      },
      "execution_count": null,
      "outputs": [
        {
          "output_type": "stream",
          "name": "stdout",
          "text": [
            "Enter the distance in  kilometers: 100\n",
            " 100.0 Kilometers are equal to 62.137100000000004 Miles\n"
          ]
        }
      ]
    },
    {
      "cell_type": "code",
      "source": [
        "#Program 8\n",
        "# Write a Python program to convert Celsius to Fahrenheit.\n",
        "celsius=float(input(\" Enter temperature in Celcius: \"))\n",
        "\n",
        "fahrenheit = (celsius * 9/5) + 32\n",
        "\n",
        "print(f\" {celsius} degree Celsius is equal to {fahrenheit} degree Fahrenheit\")\n"
      ],
      "metadata": {
        "colab": {
          "base_uri": "https://localhost:8080/"
        },
        "id": "tMpOe6nN38Pa",
        "outputId": "c415f3da-9dcc-4fb8-cf14-4d630605ef1d"
      },
      "execution_count": null,
      "outputs": [
        {
          "output_type": "stream",
          "name": "stdout",
          "text": [
            " Enter temperature in Celcius: 100\n",
            " 100.0 degree Celsius is equal to 212.0 degree Fahrenheit\n"
          ]
        }
      ]
    },
    {
      "cell_type": "code",
      "source": [
        "#Program 9\n",
        "#Write a Python program to display calendar.\n",
        "import calendar\n",
        "year=int(input(\"Enter Year: \"))\n",
        "month=int(input(\"Enter Month: \"))\n",
        "\n",
        "cal= calendar.month(year, month)\n",
        "print(cal)"
      ],
      "metadata": {
        "colab": {
          "base_uri": "https://localhost:8080/"
        },
        "id": "D0oTGvYoYYe3",
        "outputId": "1092dca7-a754-430b-9485-9cb70c53b63e"
      },
      "execution_count": null,
      "outputs": [
        {
          "output_type": "stream",
          "name": "stdout",
          "text": [
            "Enter Year: 1988\n",
            "Enter Month: 12\n",
            "   December 1988\n",
            "Mo Tu We Th Fr Sa Su\n",
            "          1  2  3  4\n",
            " 5  6  7  8  9 10 11\n",
            "12 13 14 15 16 17 18\n",
            "19 20 21 22 23 24 25\n",
            "26 27 28 29 30 31\n",
            "\n"
          ]
        }
      ]
    },
    {
      "cell_type": "code",
      "source": [
        "#Program 10\n",
        "#Write a Python program to swap two variables without temp variable.\n",
        "\n",
        "#Write a Python program to swap the two variables.\n",
        "a=input(\"Enter the value of first variable, a = \")\n",
        "b=input(\"Enter the value of 2nd variable, b = \")\n",
        "print(f\"The original variables values are : a={a} & b={b}\")\n",
        "\n",
        "a,b=b,a\n",
        "print(\"After Swapping\")\n",
        "\n",
        "\n",
        "#Display the Swapped values\n",
        "print(f\"The Swapped values are a ={a} & b={b}\")"
      ],
      "metadata": {
        "colab": {
          "base_uri": "https://localhost:8080/"
        },
        "id": "39veI5XAaW2B",
        "outputId": "f3c36db1-876f-4e90-f91f-c07c341a7a97"
      },
      "execution_count": null,
      "outputs": [
        {
          "output_type": "stream",
          "name": "stdout",
          "text": [
            "Enter the value of first variable, a = 6\n",
            "Enter the value of 2nd variable, b = 9\n",
            "The original variables values are : a=6 & b=9\n",
            "After Swapping\n",
            "The Swapped values are a =9 & b=6\n"
          ]
        }
      ]
    },
    {
      "cell_type": "code",
      "source": [
        "#Program 11\n",
        "#Write a Python Program to Check if a Number is Positive, Negative or Zero.\n",
        "\n",
        "num =float(input(\"Enter any Number: \"))\n",
        "if num> 0:\n",
        "  print(\"Positive number\")\n",
        "elif num==0:\n",
        "  print(\"zero\")\n",
        "else:\n",
        "  print(\"Negative number\")"
      ],
      "metadata": {
        "colab": {
          "base_uri": "https://localhost:8080/"
        },
        "id": "VQ34Kr9Obbdt",
        "outputId": "fa6340a7-7aa1-405e-eb9d-7a183ab343ca"
      },
      "execution_count": null,
      "outputs": [
        {
          "output_type": "stream",
          "name": "stdout",
          "text": [
            "Enter any Number: -7\n",
            "Negative number\n"
          ]
        }
      ]
    },
    {
      "cell_type": "code",
      "source": [
        "#Program 12\n",
        "#Write a Python Program to Check if a Number is Odd or Even.\n",
        "num =int(input(\"Enter a Number: \"))\n",
        "\n",
        "if num%2 == 0:\n",
        "  print(\"This is a even number\")\n",
        "else:\n",
        "  print(\"This is a Odd number\")"
      ],
      "metadata": {
        "colab": {
          "base_uri": "https://localhost:8080/"
        },
        "id": "o2bO11pVerso",
        "outputId": "f8871ade-b945-455d-dd50-9b2f2dab9243"
      },
      "execution_count": null,
      "outputs": [
        {
          "output_type": "stream",
          "name": "stdout",
          "text": [
            "Enter a Number: 9\n",
            "This is a Odd number\n"
          ]
        }
      ]
    },
    {
      "cell_type": "code",
      "source": [
        "#Program 13\n",
        "#Write a program to check Prime Number\n",
        "\n",
        "num=int(input(\"Enter any Number: \"))\n",
        "#define a Flag variable\n",
        "flag = False\n",
        "if num==1:\n",
        "  print(f\" {num} is not a Prime Number\")\n",
        "elif num>1:\n",
        "  for i in range(2,num):\n",
        "    if(num % i) == 0:\n",
        "      flag = True\n",
        "      break\n",
        "if flag:\n",
        "  print(f\" {num} , is not a Prime Number\")\n",
        "else:\n",
        "  print(f\"{num}, is a Prime Number\")\n",
        "\n"
      ],
      "metadata": {
        "colab": {
          "base_uri": "https://localhost:8080/"
        },
        "id": "_0J_2QnnDNJI",
        "outputId": "67e8592a-48e5-4ca3-b3f6-f2cf6d8eafd7"
      },
      "execution_count": null,
      "outputs": [
        {
          "output_type": "stream",
          "name": "stdout",
          "text": [
            "Enter any Number: 3\n",
            "3, is a Prime Number\n"
          ]
        }
      ]
    },
    {
      "cell_type": "code",
      "source": [
        "#Program 15\n",
        "#Write a Python Program to print all the prime numbers in an interval of 1-25\n",
        "\n",
        "start_intrvl=1\n",
        "end_intrvl=100\n",
        "print(f\"Prime Number between\" , start_intrvl, \"&\", end_intrvl, \"are here below :\")\n",
        "total = 0\n",
        "for num in range(start_intrvl ,end_intrvl +1):\n",
        "  if num > 1:\n",
        "    for i in range(2,num):\n",
        "      if(num % i) ==0:\n",
        "        break\n",
        "    else:\n",
        "        print(num)\n",
        "        total = total + 1\n",
        "print(f\"The total number of prime numbers: {total}\")"
      ],
      "metadata": {
        "colab": {
          "base_uri": "https://localhost:8080/"
        },
        "id": "JK_PekXhbHXo",
        "outputId": "6849f109-5530-4634-dcfa-c3b3e04f4476"
      },
      "execution_count": null,
      "outputs": [
        {
          "output_type": "stream",
          "name": "stdout",
          "text": [
            "Prime Number between 1 & 100 are here below :\n",
            "2\n",
            "3\n",
            "5\n",
            "7\n",
            "11\n",
            "13\n",
            "17\n",
            "19\n",
            "23\n",
            "29\n",
            "31\n",
            "37\n",
            "41\n",
            "43\n",
            "47\n",
            "53\n",
            "59\n",
            "61\n",
            "67\n",
            "71\n",
            "73\n",
            "79\n",
            "83\n",
            "89\n",
            "97\n",
            "The total number of prime numbers: 25\n"
          ]
        }
      ]
    },
    {
      "cell_type": "code",
      "source": [
        "#Program 16\n",
        "# Write a Program to Find the Factorial of a Number\n",
        "\n",
        "num = int(input(\" Enter any Number: \"))\n",
        "factorial =1\n",
        "if num<0:\n",
        "  print(\"Factorial doesnot exist for Negative Numbers\")\n",
        "elif num == 0:\n",
        "  print(\"Factorial for 0 is 1\")\n",
        "else:\n",
        "  for i in range(1, num +1):\n",
        "    factorial=factorial*i\n",
        "  print(f\" The Factorial of {num} is {factorial}\")"
      ],
      "metadata": {
        "colab": {
          "base_uri": "https://localhost:8080/"
        },
        "id": "t3wQ8UKHtnVm",
        "outputId": "2cac4e30-c6cc-4e77-a9dc-d0004abda991"
      },
      "execution_count": null,
      "outputs": [
        {
          "output_type": "stream",
          "name": "stdout",
          "text": [
            " Enter any Number: 5\n",
            " The Factorial of 5 is 120\n"
          ]
        }
      ]
    },
    {
      "cell_type": "code",
      "source": [],
      "metadata": {
        "id": "OoX1h87WKNDM"
      },
      "execution_count": null,
      "outputs": []
    },
    {
      "cell_type": "code",
      "source": [
        "#Program 17\n",
        "#Write a Program to Display the multiplication Table\n",
        "\n",
        "num = int(input(\"Display Multiplication Table of: \"))\n",
        "\n",
        "for i in range(1,11):\n",
        "  result =num*i\n",
        "  print(f\" {num} * {i} = {result} \")\n",
        "  print(\"*\" * result)\n"
      ],
      "metadata": {
        "colab": {
          "base_uri": "https://localhost:8080/"
        },
        "id": "4LCL2UGGb3fa",
        "outputId": "85a48d58-eaee-440a-8d2c-042166e9da5c"
      },
      "execution_count": null,
      "outputs": [
        {
          "output_type": "stream",
          "name": "stdout",
          "text": [
            "Display Multiplication Table of: 8\n",
            " 8 * 1 = 8 \n",
            "********\n",
            " 8 * 2 = 16 \n",
            "****************\n",
            " 8 * 3 = 24 \n",
            "************************\n",
            " 8 * 4 = 32 \n",
            "********************************\n",
            " 8 * 5 = 40 \n",
            "****************************************\n",
            " 8 * 6 = 48 \n",
            "************************************************\n",
            " 8 * 7 = 56 \n",
            "********************************************************\n",
            " 8 * 8 = 64 \n",
            "****************************************************************\n",
            " 8 * 9 = 72 \n",
            "************************************************************************\n",
            " 8 * 10 = 80 \n",
            "********************************************************************************\n"
          ]
        }
      ]
    },
    {
      "cell_type": "code",
      "source": [
        "#Program 18\n",
        "\n",
        "#Write a Python Program to print the Fibonacci sequence\n",
        "\n",
        "nterms = int (input(\"How many terms?  \"))\n",
        "n1,n2 =0,1  #First two terms\n",
        "count = 0\n",
        "\n",
        "#Check if the number of terms is valid\n",
        "if nterms <= 0:\n",
        "  print(\"Please enter a positive integer\")\n",
        "elif nterms == 1:  #If there is only one terrm, return n1\n",
        "  print(\"Fibonacci sequence upto\" , nterms, \":\")\n",
        "  print(n1)\n",
        "# generate fibonacci sequence\n",
        "else:\n",
        "  print(\"Fibonacci sequence: \")\n",
        "  while count < nterms:\n",
        "    print(n1)\n",
        "    nth=n1+n2\n",
        "    n1=n2\n",
        "    n2=nth\n",
        "    count +=1\n"
      ],
      "metadata": {
        "id": "tWpPM_LzqDaF",
        "colab": {
          "base_uri": "https://localhost:8080/"
        },
        "outputId": "a36de8b1-6034-446b-e2b9-2a8e906cb4d6"
      },
      "execution_count": null,
      "outputs": [
        {
          "output_type": "stream",
          "name": "stdout",
          "text": [
            "How many terms?  20\n",
            "Fibonacci sequence: \n",
            "0\n",
            "1\n",
            "1\n",
            "2\n",
            "3\n",
            "5\n",
            "8\n",
            "13\n",
            "21\n",
            "34\n",
            "55\n",
            "89\n",
            "144\n",
            "233\n",
            "377\n",
            "610\n",
            "987\n",
            "1597\n",
            "2584\n",
            "4181\n"
          ]
        }
      ]
    },
    {
      "cell_type": "code",
      "source": [
        "#Program 19\n",
        "# Write a Python program to check armstrong number\n",
        "\n",
        "num=int(input(\"Enter a number: \"))\n",
        "\n",
        "num_str=str(num)\n",
        "num_digits=len(num_str)\n",
        "#Initialize the variables\n",
        "sum_of_powers=0\n",
        "temp_num=num\n",
        " #Calculate the sum of every digits raised to the power of num_digits\n",
        "\n",
        "while temp_num>0:\n",
        "  digit=temp_num %10\n",
        "  sum_of_powers += digit ** num_digits\n",
        "  temp_num //= 10\n",
        "# To check wehther the \"num\" is an armstrong number or not\n",
        "if sum_of_powers == num:\n",
        "  print(f\" {num} is an Armstrong. \")\n",
        "else:\n",
        "  print(f\" {num} is not an armstrong.\")"
      ],
      "metadata": {
        "colab": {
          "base_uri": "https://localhost:8080/"
        },
        "id": "HNa8l98tKRlU",
        "outputId": "95126f5b-5c23-434c-ccdb-2c4a6c24033a"
      },
      "execution_count": null,
      "outputs": [
        {
          "output_type": "stream",
          "name": "stdout",
          "text": [
            "Enter a number: 9474\n",
            " 9474 is an Armstrong. \n"
          ]
        }
      ]
    },
    {
      "cell_type": "code",
      "source": [
        "# Program 20\n",
        "# Write a Program to find Armstrong number in an interval\n",
        "\n",
        "lower_value=int(input(\"Enter the lower limit value of the interval: \"))\n",
        "upper_value=int(input(\"Enter the upper limit value of the interval: \"))\n",
        "for num in range(lower_value, upper_value +1):\n",
        "  order=len(str(num))\n",
        "  temp_num=num\n",
        "  sum=0\n",
        "  while temp_num>0:\n",
        "    digit=temp_num% 10\n",
        "    sum += digit ** order\n",
        "    temp_num //= 10\n",
        "  if num == sum:\n",
        "      print (num)"
      ],
      "metadata": {
        "colab": {
          "base_uri": "https://localhost:8080/"
        },
        "id": "Sq8LUuyeN7AZ",
        "outputId": "8ba17485-a669-418e-924b-0a7c3b7e8bd9"
      },
      "execution_count": null,
      "outputs": [
        {
          "output_type": "stream",
          "name": "stdout",
          "text": [
            "Enter the lower limit value of the interval: 10\n",
            "Enter the upper limit value of the interval: 6000\n",
            "153\n",
            "370\n",
            "371\n",
            "407\n",
            "1634\n"
          ]
        }
      ]
    }
  ],
  "metadata": {
    "colab": {
      "provenance": [],
      "authorship_tag": "ABX9TyPF8Eb56VZlYJeybKxv/kXV",
      "include_colab_link": true
    },
    "kernelspec": {
      "display_name": "Python 3",
      "name": "python3"
    },
    "language_info": {
      "name": "python"
    }
  },
  "nbformat": 4,
  "nbformat_minor": 0
}